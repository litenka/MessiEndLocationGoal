{
 "cells": [
  {
   "cell_type": "code",
   "execution_count": 1,
   "metadata": {},
   "outputs": [],
   "source": [
    "import pandas as pd\n",
    "import json\n",
    "import matplotlib.pyplot as plt"
   ]
  },
  {
   "cell_type": "code",
   "execution_count": 8,
   "metadata": {},
   "outputs": [],
   "source": [
    "#data stats boomb\n",
    "competitions = pd.read_json(r'open-data-master/data/competitions.json')"
   ]
  },
  {
   "cell_type": "code",
   "execution_count": 18,
   "metadata": {
    "collapsed": true,
    "jupyter": {
     "outputs_hidden": true
    }
   },
   "outputs": [
    {
     "name": "stdout",
     "output_type": "stream",
     "text": [
      "4\n",
      "1\n",
      "2\n",
      "27\n",
      "26\n",
      "25\n",
      "24\n",
      "23\n",
      "22\n",
      "21\n",
      "41\n",
      "40\n",
      "39\n",
      "38\n",
      "37\n"
     ]
    }
   ],
   "source": [
    "concat_matchs = []\n",
    "for i in competitions[competitions.competition_id == 11].season_id.to_list():\n",
    "    matchs = pd.read_json(f'open-data-master/data/matches/11/{i}.json')\n",
    "    concat_matchs.append(matchs)\n",
    "    \n",
    "matchs_messi = pd.concat(concat_matchs)"
   ]
  },
  {
   "cell_type": "code",
   "execution_count": 27,
   "metadata": {},
   "outputs": [],
   "source": [
    "list_event = matchs_messi.match_id.to_list()"
   ]
  },
  {
   "cell_type": "code",
   "execution_count": null,
   "metadata": {},
   "outputs": [],
   "source": [
    "event_messi_goal = []\n",
    "for event in list_event:\n",
    "    events = pd.read_json(f'open-data-master/data/events/{event}.json')\n",
    "    events = events.dropna(subset=['player'])\n",
    "    events = events.dropna(subset=['type'])\n",
    "    events = events.reset_index(drop=True)\n",
    "    for ids in range(len(events)):\n",
    "        events.loc[ids, 'messi'] = events.loc[ids, 'player']['id']\n",
    "        events.loc[ids, 'messishot'] = events.loc[ids, 'type']['name']\n",
    "        \n",
    "    events = events[(events['messi'] == 5503) & (events['messishot'] == 'Shot') ]\n",
    "\n",
    "    event_messi_goal.append(events)\n",
    "\n",
    "matchs_messi_event = pd.concat(event_messi_goal)"
   ]
  },
  {
   "cell_type": "code",
   "execution_count": 80,
   "metadata": {},
   "outputs": [],
   "source": [
    "#save\n",
    "matchs_messi_event.to_pickle('messishoot')"
   ]
  },
  {
   "cell_type": "code",
   "execution_count": 2,
   "metadata": {},
   "outputs": [],
   "source": [
    "matchs_messi_event = pd.read_pickle(r'messishoot')"
   ]
  },
  {
   "cell_type": "code",
   "execution_count": 3,
   "metadata": {},
   "outputs": [],
   "source": [
    "matchs_messi_event = matchs_messi_event.reset_index(drop = True)\n",
    "for shot in range(len(matchs_messi_event)):\n",
    "    matchs_messi_event.loc[shot, 'x'] = matchs_messi_event.loc[shot, 'shot']['end_location'][1]\n",
    "    if len(matchs_messi_event.loc[shot, 'shot']['end_location']) == 3:\n",
    "        matchs_messi_event.loc[shot,'y'] = matchs_messi_event.loc[shot, 'shot']['end_location'][2]\n",
    "    matchs_messi_event.loc[shot,'typeofshot'] = matchs_messi_event.loc[shot, 'shot']['type']['name']\n",
    "    matchs_messi_event.loc[shot,'result'] = matchs_messi_event.loc[shot, 'shot']['outcome']['name']\n",
    "    "
   ]
  },
  {
   "cell_type": "code",
   "execution_count": 27,
   "metadata": {},
   "outputs": [],
   "source": [
    "#scale data (statsbomb center field = 60,40) \n",
    "matchs_messi_event['xM'] = [(float(i) / 80 * 68) for i in matchs_messi_event.x]"
   ]
  },
  {
   "cell_type": "code",
   "execution_count": 115,
   "metadata": {},
   "outputs": [],
   "source": [
    "xGoal = matchs_messi_event[(matchs_messi_event['result'] == \"Goal\") & (matchs_messi_event['typeofshot'] == 'Penalty')]['xM'].to_list()\n",
    "zGoal = matchs_messi_event[(matchs_messi_event['result'] == \"Goal\") & (matchs_messi_event['typeofshot'] == 'Penalty')]['y'].to_list()"
   ]
  },
  {
   "cell_type": "code",
   "execution_count": 127,
   "metadata": {},
   "outputs": [
    {
     "data": {
      "image/png": "[encoded data removed]",
      "text/plain": [
       "<Figure size 432x288 with 1 Axes>"
      ]
     },
     "metadata": {},
     "output_type": "display_data"
    }
   ],
   "source": [
    "fig, ax = plt.subplots()\n",
    "fig.set_facecolor('#008066ff')\n",
    "ax.set_aspect('equal')\n",
    "plt.scatter(xGoal, zGoal, c = 'red', zorder=1)\n",
    "title = plt.title('Messi Penalty Goal')\n",
    "title.set_fontsize(16)\n",
    "title.set_color('white')\n",
    "# fGoal = plt.hexbin(xGoal,zGoal,C=None,gridsize=3,bins=None, zorder=2, cmap= \"cividis\", edgecolors='#440154ff')\n",
    "# countsGoal = fGoal.get_array()\n",
    "# positionsGoal = fGoal.get_offsets() \n",
    "\n",
    "# for c, (x,y) in zip(countsGoal,positionsGoal):\n",
    "#     if c != 0.0:\n",
    "\n",
    "#         plt.text(x,y,\"{:d}\".format(int(c)), ha=\"center\", va=\"center\")\n",
    "        \n",
    "ly4 = [0,2.48,2.48,0]\n",
    "lx4 = [30.30,30.30,37.90,37.90]\n",
    "plt.plot(lx4,ly4,color='white',zorder=5, linewidth=5)\n",
    "ax.axis('off')\n",
    "plt.axis('equal')\n",
    "ax.set_xlim(30, 38.2)\n",
    "ax.set_ylim(0,2.5)\n",
    "plt.show()"
   ]
  },
  {
   "cell_type": "code",
   "execution_count": 105,
   "metadata": {},
   "outputs": [
    {
     "data": {
      "text/plain": [
       "Open Play    1603\n",
       "Free Kick     336\n",
       "Penalty        64\n",
       "Name: typeofshot, dtype: int64"
      ]
     },
     "execution_count": 105,
     "metadata": {},
     "output_type": "execute_result"
    }
   ],
   "source": [
    "matchs_messi_event['typeofshot'].value_counts()"
   ]
  }
 ],
 "metadata": {
  "kernelspec": {
   "display_name": "Python 3",
   "language": "python",
   "name": "python3"
  },
  "language_info": {
   "codemirror_mode": {
    "name": "ipython",
    "version": 3
   },
   "file_extension": ".py",
   "mimetype": "text/x-python",
   "name": "python",
   "nbconvert_exporter": "python",
   "pygments_lexer": "ipython3",
   "version": "3.6.8"
  }
 },
 "nbformat": 4,
 "nbformat_minor": 4
}
