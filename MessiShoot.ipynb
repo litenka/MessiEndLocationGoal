{
 "cells": [
  {
   "cell_type": "code",
   "execution_count": 219,
   "metadata": {},
   "outputs": [],
   "source": [
    "import pandas as pd\n",
    "import json\n",
    "import matplotlib.pyplot as plt"
   ]
  },
  {
   "cell_type": "code",
   "execution_count": 220,
   "metadata": {},
   "outputs": [],
   "source": [
    "#data stats boomb\n",
    "competitions = pd.read_json(r'open-data-master/data/competitions.json')"
   ]
  },
  {
   "cell_type": "code",
   "execution_count": 221,
   "metadata": {},
   "outputs": [],
   "source": [
    "#scrap data\n",
    "concat_matchs = []\n",
    "for i in competitions[competitions.competition_id == 11].season_id.to_list():\n",
    "    matchs = pd.read_json(f'open-data-master/data/matches/11/{i}.json')\n",
    "    concat_matchs.append(matchs)\n",
    "    \n",
    "matchs_messi = pd.concat(concat_matchs)"
   ]
  },
  {
   "cell_type": "code",
   "execution_count": 222,
   "metadata": {},
   "outputs": [],
   "source": [
    "list_event = matchs_messi.match_id.to_list()"
   ]
  },
  {
   "cell_type": "code",
   "execution_count": 223,
   "metadata": {},
   "outputs": [],
   "source": [
    "#scrap data only with messi event\n",
    "event_messi_goal = []\n",
    "for event in list_event:\n",
    "    events = pd.read_json(f'open-data-master/data/events/{event}.json')\n",
    "    events = events.dropna(subset=['player'])\n",
    "    events = events.dropna(subset=['type'])\n",
    "    events = events.reset_index(drop=True)\n",
    "    for ids in range(len(events)):\n",
    "        events.loc[ids, 'messi'] = events.loc[ids, 'player']['id']\n",
    "        events.loc[ids, 'messishot'] = events.loc[ids, 'type']['name']\n",
    "        \n",
    "    events = events[(events['messi'] == 5503) & (events['messishot'] == 'Shot') ]\n",
    "\n",
    "    event_messi_goal.append(events)\n",
    "\n",
    "matchs_messi_event = pd.concat(event_messi_goal)"
   ]
  },
  {
   "cell_type": "code",
   "execution_count": 224,
   "metadata": {},
   "outputs": [],
   "source": [
    "#save\n",
    "matchs_messi_event.to_pickle('messishoot')"
   ]
  },
  {
   "cell_type": "code",
   "execution_count": 225,
   "metadata": {},
   "outputs": [],
   "source": [
    "matchs_messi_event = pd.read_pickle(r'messishoot')"
   ]
  },
  {
   "cell_type": "code",
   "execution_count": 226,
   "metadata": {},
   "outputs": [],
   "source": [
    "# data convert for localisation\n",
    "matchs_messi_event = matchs_messi_event.reset_index(drop = True)\n",
    "for shot in range(len(matchs_messi_event)):\n",
    "    matchs_messi_event.loc[shot, 'x'] = matchs_messi_event.loc[shot, 'shot']['end_location'][1]\n",
    "    if len(matchs_messi_event.loc[shot, 'shot']['end_location']) == 3:\n",
    "        matchs_messi_event.loc[shot,'y'] = matchs_messi_event.loc[shot, 'shot']['end_location'][2]\n",
    "    matchs_messi_event.loc[shot,'typeofshot'] = matchs_messi_event.loc[shot, 'shot']['type']['name']\n",
    "    matchs_messi_event.loc[shot,'result'] = matchs_messi_event.loc[shot, 'shot']['outcome']['name']\n",
    "    "
   ]
  },
  {
   "cell_type": "code",
   "execution_count": 227,
   "metadata": {},
   "outputs": [],
   "source": [
    "#scale data (statsbomb center field = 60,40) \n",
    "matchs_messi_event['xM'] = [(float(i) / 80 * 68) for i in matchs_messi_event.x]"
   ]
  },
  {
   "cell_type": "code",
   "execution_count": 228,
   "metadata": {},
   "outputs": [],
   "source": [
    "import geopandas as gpd\n",
    "import fiona\n",
    "import matplotlib.pyplot as plt\n",
    "%matplotlib inline\n",
    "from geopandas.tools import sjoin\n",
    "import numpy as np"
   ]
  },
  {
   "cell_type": "code",
   "execution_count": 229,
   "metadata": {},
   "outputs": [],
   "source": [
    "fp = r'FootballCage.geojson'"
   ]
  },
  {
   "cell_type": "code",
   "execution_count": 230,
   "metadata": {},
   "outputs": [],
   "source": [
    "grid = gpd.read_file(fp)"
   ]
  },
  {
   "cell_type": "code",
   "execution_count": 231,
   "metadata": {},
   "outputs": [
    {
     "data": {
      "text/plain": [
       "<matplotlib.axes._subplots.AxesSubplot at 0x2417c421550>"
      ]
     },
     "execution_count": 231,
     "metadata": {},
     "output_type": "execute_result"
    },
    {
     "data": {
      "image/png": "[encoded data removed]",
      "text/plain": [
       "<Figure size 432x288 with 1 Axes>"
      ]
     },
     "metadata": {},
     "output_type": "display_data"
    },
    {
     "data": {
      "text/plain": [
       "<Figure size 288x144 with 0 Axes>"
      ]
     },
     "metadata": {},
     "output_type": "display_data"
    }
   ],
   "source": [
    "fig, ax = plt.subplots()\n",
    "ax.set_aspect('equal')\n",
    "fig.set_facecolor('#008066ff')\n",
    "plt.figure(2, figsize=(4, 2))\n",
    "grid.plot(ax = ax, edgecolor = 'black')"
   ]
  },
  {
   "cell_type": "code",
   "execution_count": 232,
   "metadata": {},
   "outputs": [],
   "source": [
    "gdf = geopandas.GeoDataFrame(matchs_messi_event, geometry=geopandas.points_from_xy(matchs_messi_event.xM, matchs_messi_event.y))\n",
    "gdf.crs = \"EPSG:2154\""
   ]
  },
  {
   "cell_type": "code",
   "execution_count": 233,
   "metadata": {},
   "outputs": [],
   "source": [
    "def goal_map(filtre1, filtre2):\n",
    "    \n",
    "    goal = gdf[(gdf['result'] == filtre1) & (gdf['typeofshot'] == filtre2)]\n",
    "    \n",
    "    # GiS Analysis with geopandas (nombre de points dans chaque polygon)\n",
    "    f_goal = lambda x:np.sum(goal.intersects(x))\n",
    "    grid['countGoal'] = grid['geometry'].apply(f_goal)\n",
    "    \n",
    "    # Plt \n",
    "    \n",
    "    fig, ax = plt.subplots()\n",
    "    ax.axis('off')\n",
    "    fig.set_facecolor('#008066ff')\n",
    "    ax.set_title(str('Messi ' + filtre1 + ' - ' + filtre2), fontdict = {'fontsize':12, 'color':'white'})\n",
    "    \n",
    "    \n",
    "    #add grid GiS Analysis\n",
    "    grid.plot(ax = ax, cmap='winter', column='countGoal', alpha=0.65)\n",
    "   \n",
    "\n",
    "    #add cage de foot ! \n",
    "    ly4 = [0,2.48,2.48,0]\n",
    "    lx4 = [30.34,30.34,37.70,37.70]\n",
    "    ax.plot(lx4,ly4,color='white',zorder=5, linewidth=5)\n",
    "    ####\n",
    "\n",
    "    #add labels\n",
    "    grid.apply(lambda x: ax.annotate(\n",
    "        s=int(round(x.countGoal,0)), \n",
    "        xy=x.geometry.centroid.coords[0], \n",
    "        ha='center',  \n",
    "        color = \"white\", \n",
    "        fontweight='bold'),axis=1)\n",
    "\n",
    "    #add scatter localisation shoot\n",
    "    ax.scatter(goal.xM.to_list(), goal.y.to_list(), c = 'red', zorder=1, alpha=0.5, lw=0)"
   ]
  },
  {
   "cell_type": "code",
   "execution_count": 234,
   "metadata": {},
   "outputs": [
    {
     "data": {
      "image/png": "[encoded data removed]",
      "text/plain": [
       "<Figure size 432x288 with 1 Axes>"
      ]
     },
     "metadata": {},
     "output_type": "display_data"
    },
    {
     "data": {
      "image/png": "[encoded data removed]",
      "text/plain": [
       "<Figure size 432x288 with 1 Axes>"
      ]
     },
     "metadata": {},
     "output_type": "display_data"
    },
    {
     "data": {
      "image/png": "[encoded data removed]",
      "text/plain": [
       "<Figure size 432x288 with 1 Axes>"
      ]
     },
     "metadata": {},
     "output_type": "display_data"
    }
   ],
   "source": [
    "listshoot = matchs_messi_event['typeofshot'].value_counts().index.to_list()\n",
    "\n",
    "for i in listshoot:\n",
    "    goal_map('Goal', i)"
   ]
  },
  {
   "cell_type": "code",
   "execution_count": null,
   "metadata": {},
   "outputs": [],
   "source": []
  },
  {
   "cell_type": "code",
   "execution_count": null,
   "metadata": {},
   "outputs": [],
   "source": []
  }
 ],
 "metadata": {
  "kernelspec": {
   "display_name": "Python 3",
   "language": "python",
   "name": "python3"
  },
  "language_info": {
   "codemirror_mode": {
    "name": "ipython",
    "version": 3
   },
   "file_extension": ".py",
   "mimetype": "text/x-python",
   "name": "python",
   "nbconvert_exporter": "python",
   "pygments_lexer": "ipython3",
   "version": "3.6.8"
  }
 },
 "nbformat": 4,
 "nbformat_minor": 4
}
